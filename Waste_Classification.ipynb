{
  "nbformat": 4,
  "nbformat_minor": 0,
  "metadata": {
    "colab": {
      "provenance": []
    },
    "kernelspec": {
      "name": "python3",
      "display_name": "Python 3"
    },
    "language_info": {
      "name": "python"
    },
    "gpuClass": "standard"
  },
  "cells": [
    {
      "cell_type": "code",
      "execution_count": 1,
      "metadata": {
        "colab": {
          "base_uri": "https://localhost:8080/"
        },
        "id": "jtBoljClF13a",
        "outputId": "0fda7f4f-7002-4f30-95ba-139803bff5e4"
      },
      "outputs": [
        {
          "output_type": "stream",
          "name": "stdout",
          "text": [
            "Mounted at /content/gdrive\n"
          ]
        }
      ],
      "source": [
        "from google.colab import drive\n",
        "drive.mount('/content/gdrive')"
      ]
    },
    {
      "cell_type": "code",
      "source": [
        "import os\n",
        "import cv2\n",
        "import numpy as np\n",
        "from sklearn.preprocessing import OneHotEncoder\n",
        "from keras.applications.vgg16 import VGG16\n",
        "from keras.layers import Input, Flatten, Dense, Dropout\n",
        "from keras.models import Model\n",
        "from keras.callbacks import ModelCheckpoint\n",
        "import matplotlib.pyplot as plt\n",
        "from keras.preprocessing.image import ImageDataGenerator"
      ],
      "metadata": {
        "id": "RA-WtuAAF4ab"
      },
      "execution_count": 2,
      "outputs": []
    },
    {
      "cell_type": "code",
      "source": [
        "def get_model():\n",
        "    model_vgg16_conv = VGG16(weights='imagenet', include_top=False)\n",
        "\n",
        "    # Dong bang cac layer\n",
        "    for layer in model_vgg16_conv.layers:\n",
        "        layer.trainable = False\n",
        "\n",
        "    # Tao model\n",
        "    input = Input(shape=(224, 224, 3), name='image_input')\n",
        "    output_vgg16_conv = model_vgg16_conv(input)\n",
        "\n",
        "    # Them cac layer FC va Dropout\n",
        "    x = Flatten(name='flatten')(output_vgg16_conv)\n",
        "    x = Dense(4096, activation='relu')(x)\n",
        "    x = Dropout(0.2)(x)\n",
        "    x = Dense(1072, activation='relu')(x)\n",
        "    x = Dropout(0.2)(x)\n",
        "    x = Dense(8, activation='softmax', name='predictions')(x)\n",
        "\n",
        "    # Compile\n",
        "    my_model = Model(inputs=input, outputs=x)\n",
        "    my_model.summary()\n",
        "    my_model.compile(loss='categorical_crossentropy',\n",
        "                     optimizer='adam', metrics=['accuracy'])\n",
        "    return my_model"
      ],
      "metadata": {
        "id": "t5WWuiLCF6Aq"
      },
      "execution_count": 3,
      "outputs": []
    },
    {
      "cell_type": "code",
      "source": [
        "vggmodel = get_model()"
      ],
      "metadata": {
        "colab": {
          "base_uri": "https://localhost:8080/"
        },
        "id": "PDLPMFLuF7zz",
        "outputId": "568c6f9d-3ffa-42d7-a4b8-4d8e9ce710c0"
      },
      "execution_count": 4,
      "outputs": [
        {
          "output_type": "stream",
          "name": "stdout",
          "text": [
            "Downloading data from https://storage.googleapis.com/tensorflow/keras-applications/vgg16/vgg16_weights_tf_dim_ordering_tf_kernels_notop.h5\n",
            "58889256/58889256 [==============================] - 0s 0us/step\n",
            "Model: \"model\"\n",
            "_________________________________________________________________\n",
            " Layer (type)                Output Shape              Param #   \n",
            "=================================================================\n",
            " image_input (InputLayer)    [(None, 224, 224, 3)]     0         \n",
            "                                                                 \n",
            " vgg16 (Functional)          (None, None, None, 512)   14714688  \n",
            "                                                                 \n",
            " flatten (Flatten)           (None, 25088)             0         \n",
            "                                                                 \n",
            " dense (Dense)               (None, 4096)              102764544 \n",
            "                                                                 \n",
            " dropout (Dropout)           (None, 4096)              0         \n",
            "                                                                 \n",
            " dense_1 (Dense)             (None, 1072)              4391984   \n",
            "                                                                 \n",
            " dropout_1 (Dropout)         (None, 1072)              0         \n",
            "                                                                 \n",
            " predictions (Dense)         (None, 8)                 8584      \n",
            "                                                                 \n",
            "=================================================================\n",
            "Total params: 121,879,800\n",
            "Trainable params: 107,165,112\n",
            "Non-trainable params: 14,714,688\n",
            "_________________________________________________________________\n"
          ]
        }
      ]
    },
    {
      "cell_type": "code",
      "source": [
        "# Luu lai weight khi dat du dieu kien duoc dat ra\n",
        "filepath=\"weights-{epoch:02d}-{val_accuracy:.2f}.hdf5\"\n",
        "checkpoint = ModelCheckpoint(filepath, monitor='val_accuracy',\n",
        "                             verbose=1, save_best_only=True, mode='max')\n",
        "callbacks_list = [checkpoint]"
      ],
      "metadata": {
        "id": "gexKjI2XF9lG"
      },
      "execution_count": 5,
      "outputs": []
    },
    {
      "cell_type": "code",
      "source": [
        "# Su dung cac ham Augmentation de tranh overfit cho du lieu\n",
        "aug = ImageDataGenerator(shear_range = 0.2, zoom_range=0.2, \n",
        "                         rescale=1/255,\n",
        "                         horizontal_flip=True,\n",
        "                         brightness_range=(0.1, 0.5))\n",
        "aug_val = ImageDataGenerator(rescale=1/255)"
      ],
      "metadata": {
        "id": "3qS5xZJDF_S_"
      },
      "execution_count": 6,
      "outputs": []
    },
    {
      "cell_type": "code",
      "source": [
        "Train_data = aug.flow_from_directory(\"/content/gdrive/MyDrive/Dataset_Nam_loc/trainset\", target_size = (224, 224), batch_size = 32, class_mode=\"categorical\")\n",
        "Val_data = aug_val.flow_from_directory(\"/content/gdrive/MyDrive/Dataset_Nam_loc/valset\", target_size = (224, 224), batch_size = 32, class_mode=\"categorical\")\n",
        "vgghist=vggmodel.fit_generator(Train_data, epochs = 40, steps_per_epoch= len(Train_data),\n",
        "                               validation_data = Val_data, callbacks=callbacks_list)"
      ],
      "metadata": {
        "colab": {
          "base_uri": "https://localhost:8080/"
        },
        "id": "nbJYGvSeGBpl",
        "outputId": "e0d8636b-0ff1-4224-8491-af687c69f90b"
      },
      "execution_count": 7,
      "outputs": [
        {
          "output_type": "stream",
          "name": "stdout",
          "text": [
            "Found 3341 images belonging to 8 classes.\n",
            "Found 363 images belonging to 8 classes.\n"
          ]
        },
        {
          "output_type": "stream",
          "name": "stderr",
          "text": [
            "<ipython-input-7-527da89d7ffc>:3: UserWarning: `Model.fit_generator` is deprecated and will be removed in a future version. Please use `Model.fit`, which supports generators.\n",
            "  vgghist=vggmodel.fit_generator(Train_data, epochs = 40, steps_per_epoch= len(Train_data),\n"
          ]
        },
        {
          "output_type": "stream",
          "name": "stdout",
          "text": [
            "Epoch 1/40\n",
            "105/105 [==============================] - ETA: 0s - loss: 3.2267 - accuracy: 0.2661\n",
            "Epoch 1: val_accuracy improved from -inf to 0.44077, saving model to weights-01-0.44.hdf5\n",
            "105/105 [==============================] - 658s 6s/step - loss: 3.2267 - accuracy: 0.2661 - val_loss: 1.4477 - val_accuracy: 0.4408\n",
            "Epoch 2/40\n",
            "105/105 [==============================] - ETA: 0s - loss: 1.5898 - accuracy: 0.3981\n",
            "Epoch 2: val_accuracy improved from 0.44077 to 0.55923, saving model to weights-02-0.56.hdf5\n",
            "105/105 [==============================] - 80s 766ms/step - loss: 1.5898 - accuracy: 0.3981 - val_loss: 1.2552 - val_accuracy: 0.5592\n",
            "Epoch 3/40\n",
            "105/105 [==============================] - ETA: 0s - loss: 1.4896 - accuracy: 0.4439\n",
            "Epoch 3: val_accuracy improved from 0.55923 to 0.58402, saving model to weights-03-0.58.hdf5\n",
            "105/105 [==============================] - 81s 772ms/step - loss: 1.4896 - accuracy: 0.4439 - val_loss: 1.1539 - val_accuracy: 0.5840\n",
            "Epoch 4/40\n",
            "105/105 [==============================] - ETA: 0s - loss: 1.4316 - accuracy: 0.4621\n",
            "Epoch 4: val_accuracy improved from 0.58402 to 0.61433, saving model to weights-04-0.61.hdf5\n",
            "105/105 [==============================] - 80s 762ms/step - loss: 1.4316 - accuracy: 0.4621 - val_loss: 1.0779 - val_accuracy: 0.6143\n",
            "Epoch 5/40\n",
            "105/105 [==============================] - ETA: 0s - loss: 1.3299 - accuracy: 0.5118\n",
            "Epoch 5: val_accuracy did not improve from 0.61433\n",
            "105/105 [==============================] - 74s 700ms/step - loss: 1.3299 - accuracy: 0.5118 - val_loss: 1.1205 - val_accuracy: 0.5950\n",
            "Epoch 6/40\n",
            "105/105 [==============================] - ETA: 0s - loss: 1.3159 - accuracy: 0.5043\n",
            "Epoch 6: val_accuracy did not improve from 0.61433\n",
            "105/105 [==============================] - 73s 697ms/step - loss: 1.3159 - accuracy: 0.5043 - val_loss: 1.2397 - val_accuracy: 0.6143\n",
            "Epoch 7/40\n",
            "105/105 [==============================] - ETA: 0s - loss: 1.2646 - accuracy: 0.5334\n",
            "Epoch 7: val_accuracy improved from 0.61433 to 0.62259, saving model to weights-07-0.62.hdf5\n",
            "105/105 [==============================] - 80s 765ms/step - loss: 1.2646 - accuracy: 0.5334 - val_loss: 1.1507 - val_accuracy: 0.6226\n",
            "Epoch 8/40\n",
            "105/105 [==============================] - ETA: 0s - loss: 1.2516 - accuracy: 0.5364\n",
            "Epoch 8: val_accuracy improved from 0.62259 to 0.62534, saving model to weights-08-0.63.hdf5\n",
            "105/105 [==============================] - 79s 752ms/step - loss: 1.2516 - accuracy: 0.5364 - val_loss: 1.0790 - val_accuracy: 0.6253\n",
            "Epoch 9/40\n",
            "105/105 [==============================] - ETA: 0s - loss: 1.2044 - accuracy: 0.5453\n",
            "Epoch 9: val_accuracy improved from 0.62534 to 0.63085, saving model to weights-09-0.63.hdf5\n",
            "105/105 [==============================] - 79s 750ms/step - loss: 1.2044 - accuracy: 0.5453 - val_loss: 1.1870 - val_accuracy: 0.6309\n",
            "Epoch 10/40\n",
            "105/105 [==============================] - ETA: 0s - loss: 1.1755 - accuracy: 0.5669\n",
            "Epoch 10: val_accuracy did not improve from 0.63085\n",
            "105/105 [==============================] - 72s 689ms/step - loss: 1.1755 - accuracy: 0.5669 - val_loss: 1.0896 - val_accuracy: 0.6281\n",
            "Epoch 11/40\n",
            "105/105 [==============================] - ETA: 0s - loss: 1.1497 - accuracy: 0.5744\n",
            "Epoch 11: val_accuracy improved from 0.63085 to 0.69421, saving model to weights-11-0.69.hdf5\n",
            "105/105 [==============================] - 79s 749ms/step - loss: 1.1497 - accuracy: 0.5744 - val_loss: 0.9185 - val_accuracy: 0.6942\n",
            "Epoch 12/40\n",
            "105/105 [==============================] - ETA: 0s - loss: 1.1861 - accuracy: 0.5576\n",
            "Epoch 12: val_accuracy did not improve from 0.69421\n",
            "105/105 [==============================] - 72s 683ms/step - loss: 1.1861 - accuracy: 0.5576 - val_loss: 1.1257 - val_accuracy: 0.6088\n",
            "Epoch 13/40\n",
            "105/105 [==============================] - ETA: 0s - loss: 1.1192 - accuracy: 0.5693\n",
            "Epoch 13: val_accuracy did not improve from 0.69421\n",
            "105/105 [==============================] - 72s 684ms/step - loss: 1.1192 - accuracy: 0.5693 - val_loss: 1.2133 - val_accuracy: 0.6639\n",
            "Epoch 14/40\n",
            "105/105 [==============================] - ETA: 0s - loss: 1.1241 - accuracy: 0.5837\n",
            "Epoch 14: val_accuracy did not improve from 0.69421\n",
            "105/105 [==============================] - 72s 689ms/step - loss: 1.1241 - accuracy: 0.5837 - val_loss: 0.9748 - val_accuracy: 0.6915\n",
            "Epoch 15/40\n",
            "105/105 [==============================] - ETA: 0s - loss: 1.1090 - accuracy: 0.5798\n",
            "Epoch 15: val_accuracy did not improve from 0.69421\n",
            "105/105 [==============================] - 73s 690ms/step - loss: 1.1090 - accuracy: 0.5798 - val_loss: 1.1042 - val_accuracy: 0.6391\n",
            "Epoch 16/40\n",
            "105/105 [==============================] - ETA: 0s - loss: 1.0891 - accuracy: 0.6088\n",
            "Epoch 16: val_accuracy did not improve from 0.69421\n",
            "105/105 [==============================] - 72s 686ms/step - loss: 1.0891 - accuracy: 0.6088 - val_loss: 1.0810 - val_accuracy: 0.6832\n",
            "Epoch 17/40\n",
            "105/105 [==============================] - ETA: 0s - loss: 1.0606 - accuracy: 0.6016\n",
            "Epoch 17: val_accuracy did not improve from 0.69421\n",
            "105/105 [==============================] - 72s 683ms/step - loss: 1.0606 - accuracy: 0.6016 - val_loss: 1.0444 - val_accuracy: 0.6804\n",
            "Epoch 18/40\n",
            "105/105 [==============================] - ETA: 0s - loss: 1.0607 - accuracy: 0.6010\n",
            "Epoch 18: val_accuracy did not improve from 0.69421\n",
            "105/105 [==============================] - 71s 681ms/step - loss: 1.0607 - accuracy: 0.6010 - val_loss: 1.2134 - val_accuracy: 0.6281\n",
            "Epoch 19/40\n",
            "105/105 [==============================] - ETA: 0s - loss: 1.0263 - accuracy: 0.6115\n",
            "Epoch 19: val_accuracy did not improve from 0.69421\n",
            "105/105 [==============================] - 72s 686ms/step - loss: 1.0263 - accuracy: 0.6115 - val_loss: 1.1184 - val_accuracy: 0.6887\n",
            "Epoch 20/40\n",
            "105/105 [==============================] - ETA: 0s - loss: 1.0011 - accuracy: 0.6226\n",
            "Epoch 20: val_accuracy did not improve from 0.69421\n",
            "105/105 [==============================] - 74s 702ms/step - loss: 1.0011 - accuracy: 0.6226 - val_loss: 1.1028 - val_accuracy: 0.6474\n",
            "Epoch 21/40\n",
            "105/105 [==============================] - ETA: 0s - loss: 1.0072 - accuracy: 0.6202\n",
            "Epoch 21: val_accuracy did not improve from 0.69421\n",
            "105/105 [==============================] - 71s 677ms/step - loss: 1.0072 - accuracy: 0.6202 - val_loss: 1.1942 - val_accuracy: 0.6556\n",
            "Epoch 22/40\n",
            "105/105 [==============================] - ETA: 0s - loss: 0.9590 - accuracy: 0.6474\n",
            "Epoch 22: val_accuracy did not improve from 0.69421\n",
            "105/105 [==============================] - 71s 678ms/step - loss: 0.9590 - accuracy: 0.6474 - val_loss: 1.0378 - val_accuracy: 0.6777\n",
            "Epoch 23/40\n",
            "105/105 [==============================] - ETA: 0s - loss: 0.9669 - accuracy: 0.6465\n",
            "Epoch 23: val_accuracy did not improve from 0.69421\n",
            "105/105 [==============================] - 71s 679ms/step - loss: 0.9669 - accuracy: 0.6465 - val_loss: 1.1374 - val_accuracy: 0.6777\n",
            "Epoch 24/40\n",
            "105/105 [==============================] - ETA: 0s - loss: 0.9026 - accuracy: 0.6624\n",
            "Epoch 24: val_accuracy did not improve from 0.69421\n",
            "105/105 [==============================] - 73s 695ms/step - loss: 0.9026 - accuracy: 0.6624 - val_loss: 1.1719 - val_accuracy: 0.6556\n",
            "Epoch 25/40\n",
            "105/105 [==============================] - ETA: 0s - loss: 0.9726 - accuracy: 0.6360\n",
            "Epoch 25: val_accuracy did not improve from 0.69421\n",
            "105/105 [==============================] - 71s 674ms/step - loss: 0.9726 - accuracy: 0.6360 - val_loss: 1.2666 - val_accuracy: 0.6694\n",
            "Epoch 26/40\n",
            "105/105 [==============================] - ETA: 0s - loss: 0.9532 - accuracy: 0.6438\n",
            "Epoch 26: val_accuracy improved from 0.69421 to 0.70799, saving model to weights-26-0.71.hdf5\n",
            "105/105 [==============================] - 77s 739ms/step - loss: 0.9532 - accuracy: 0.6438 - val_loss: 1.0232 - val_accuracy: 0.7080\n",
            "Epoch 27/40\n",
            "105/105 [==============================] - ETA: 0s - loss: 0.9466 - accuracy: 0.6453\n",
            "Epoch 27: val_accuracy did not improve from 0.70799\n",
            "105/105 [==============================] - 73s 687ms/step - loss: 0.9466 - accuracy: 0.6453 - val_loss: 0.9914 - val_accuracy: 0.6942\n",
            "Epoch 28/40\n",
            "105/105 [==============================] - ETA: 0s - loss: 0.8978 - accuracy: 0.6657\n",
            "Epoch 28: val_accuracy improved from 0.70799 to 0.71901, saving model to weights-28-0.72.hdf5\n",
            "105/105 [==============================] - 77s 736ms/step - loss: 0.8978 - accuracy: 0.6657 - val_loss: 1.0602 - val_accuracy: 0.7190\n",
            "Epoch 29/40\n",
            "105/105 [==============================] - ETA: 0s - loss: 0.9763 - accuracy: 0.6301\n",
            "Epoch 29: val_accuracy did not improve from 0.71901\n",
            "105/105 [==============================] - 72s 682ms/step - loss: 0.9763 - accuracy: 0.6301 - val_loss: 1.1672 - val_accuracy: 0.6309\n",
            "Epoch 30/40\n",
            "105/105 [==============================] - ETA: 0s - loss: 0.9722 - accuracy: 0.6283\n",
            "Epoch 30: val_accuracy did not improve from 0.71901\n",
            "105/105 [==============================] - 71s 675ms/step - loss: 0.9722 - accuracy: 0.6283 - val_loss: 1.0906 - val_accuracy: 0.6942\n",
            "Epoch 31/40\n",
            "105/105 [==============================] - ETA: 0s - loss: 0.8591 - accuracy: 0.6830\n",
            "Epoch 31: val_accuracy did not improve from 0.71901\n",
            "105/105 [==============================] - 71s 679ms/step - loss: 0.8591 - accuracy: 0.6830 - val_loss: 1.0475 - val_accuracy: 0.6915\n",
            "Epoch 32/40\n",
            "105/105 [==============================] - ETA: 0s - loss: 0.8680 - accuracy: 0.6908\n",
            "Epoch 32: val_accuracy did not improve from 0.71901\n",
            "105/105 [==============================] - 71s 678ms/step - loss: 0.8680 - accuracy: 0.6908 - val_loss: 1.0134 - val_accuracy: 0.7107\n",
            "Epoch 33/40\n",
            "105/105 [==============================] - ETA: 0s - loss: 0.9090 - accuracy: 0.6624\n",
            "Epoch 33: val_accuracy did not improve from 0.71901\n",
            "105/105 [==============================] - 74s 706ms/step - loss: 0.9090 - accuracy: 0.6624 - val_loss: 1.1378 - val_accuracy: 0.6970\n",
            "Epoch 34/40\n",
            "105/105 [==============================] - ETA: 0s - loss: 0.8786 - accuracy: 0.6758\n",
            "Epoch 34: val_accuracy did not improve from 0.71901\n",
            "105/105 [==============================] - 72s 684ms/step - loss: 0.8786 - accuracy: 0.6758 - val_loss: 1.7145 - val_accuracy: 0.6253\n",
            "Epoch 35/40\n",
            "105/105 [==============================] - ETA: 0s - loss: 0.8725 - accuracy: 0.6761\n",
            "Epoch 35: val_accuracy improved from 0.71901 to 0.72176, saving model to weights-35-0.72.hdf5\n",
            "105/105 [==============================] - 79s 754ms/step - loss: 0.8725 - accuracy: 0.6761 - val_loss: 1.1880 - val_accuracy: 0.7218\n",
            "Epoch 36/40\n",
            "105/105 [==============================] - ETA: 0s - loss: 0.8599 - accuracy: 0.6956\n",
            "Epoch 36: val_accuracy did not improve from 0.72176\n",
            "105/105 [==============================] - 72s 682ms/step - loss: 0.8599 - accuracy: 0.6956 - val_loss: 0.9978 - val_accuracy: 0.7190\n",
            "Epoch 37/40\n",
            "105/105 [==============================] - ETA: 0s - loss: 0.8223 - accuracy: 0.7007\n",
            "Epoch 37: val_accuracy did not improve from 0.72176\n",
            "105/105 [==============================] - 74s 706ms/step - loss: 0.8223 - accuracy: 0.7007 - val_loss: 1.2608 - val_accuracy: 0.6887\n",
            "Epoch 38/40\n",
            "105/105 [==============================] - ETA: 0s - loss: 0.8290 - accuracy: 0.6932\n",
            "Epoch 38: val_accuracy did not improve from 0.72176\n",
            "105/105 [==============================] - 72s 683ms/step - loss: 0.8290 - accuracy: 0.6932 - val_loss: 1.0681 - val_accuracy: 0.7080\n",
            "Epoch 39/40\n",
            "105/105 [==============================] - ETA: 0s - loss: 0.8693 - accuracy: 0.6723\n",
            "Epoch 39: val_accuracy did not improve from 0.72176\n",
            "105/105 [==============================] - 71s 680ms/step - loss: 0.8693 - accuracy: 0.6723 - val_loss: 1.2043 - val_accuracy: 0.7025\n",
            "Epoch 40/40\n",
            "105/105 [==============================] - ETA: 0s - loss: 0.8095 - accuracy: 0.7031\n",
            "Epoch 40: val_accuracy did not improve from 0.72176\n",
            "105/105 [==============================] - 71s 680ms/step - loss: 0.8095 - accuracy: 0.7031 - val_loss: 1.2490 - val_accuracy: 0.7107\n"
          ]
        }
      ]
    },
    {
      "cell_type": "code",
      "source": [
        "def plot_model_history(model_history, acc='accuracy', val_acc='val_accuracy'):\n",
        "    fig, axs = plt.subplots(1, 2, figsize=(15, 5))\n",
        "    axs[0].plot(range(1, len(model_history.history[acc]) + 1), model_history.history[acc])\n",
        "    axs[0].plot(range(1, len(model_history.history[val_acc]) + 1), model_history.history[val_acc])\n",
        "    axs[0].set_title('Model Accuracy')\n",
        "    axs[0].set_ylabel('Accuracy')\n",
        "    axs[0].set_xlabel('Epoch')\n",
        "    axs[0].set_xticks(np.arange(1, len(model_history.history[acc]) + 1), len(model_history.history[acc]) / 10)\n",
        "    axs[0].legend(['train', 'val'], loc='best')\n",
        "    axs[1].plot(range(1, len(model_history.history['loss']) + 1), model_history.history['loss'])\n",
        "    axs[1].plot(range(1, len(model_history.history['val_loss']) + 1), model_history.history['val_loss'])\n",
        "    axs[1].set_title('Model Loss')\n",
        "    axs[1].set_ylabel('Loss')\n",
        "    axs[1].set_xlabel('Epoch')\n",
        "    axs[1].set_xticks(np.arange(1, len(model_history.history['loss']) + 1), len(model_history.history['loss']) / 10)\n",
        "    axs[1].legend(['train', 'val'], loc='best')\n",
        "    plt.show()"
      ],
      "metadata": {
        "id": "lIFP_JDPGDi-"
      },
      "execution_count": 8,
      "outputs": []
    },
    {
      "cell_type": "code",
      "source": [
        "plot_model_history(vgghist)"
      ],
      "metadata": {
        "colab": {
          "base_uri": "https://localhost:8080/",
          "height": 439
        },
        "id": "2_Tb2eb2GETz",
        "outputId": "39777375-a9bc-45ca-9acb-dc14e20698a5"
      },
      "execution_count": 9,
      "outputs": [
        {
          "output_type": "stream",
          "name": "stderr",
          "text": [
            "<ipython-input-8-ae1865fb4544>:8: MatplotlibDeprecationWarning: Passing the minor parameter of set_xticks() positionally is deprecated since Matplotlib 3.2; the parameter will become keyword-only two minor releases later.\n",
            "  axs[0].set_xticks(np.arange(1, len(model_history.history[acc]) + 1), len(model_history.history[acc]) / 10)\n",
            "<ipython-input-8-ae1865fb4544>:15: MatplotlibDeprecationWarning: Passing the minor parameter of set_xticks() positionally is deprecated since Matplotlib 3.2; the parameter will become keyword-only two minor releases later.\n",
            "  axs[1].set_xticks(np.arange(1, len(model_history.history['loss']) + 1), len(model_history.history['loss']) / 10)\n"
          ]
        },
        {
          "output_type": "display_data",
          "data": {
            "text/plain": [
              "<Figure size 1080x360 with 2 Axes>"
            ],
            "image/png": "[encoded data removed]"
          },
          "metadata": {
            "needs_background": "light"
          }
        }
      ]
    },
    {
      "cell_type": "code",
      "source": [
        "vggmodel.save('/content/gdrive/MyDrive/vgg16modelclassification.h5')"
      ],
      "metadata": {
        "id": "ONz3mZ01GGNN"
      },
      "execution_count": 10,
      "outputs": []
    }
  ]
}